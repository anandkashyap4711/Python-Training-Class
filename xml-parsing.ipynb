{
 "cells": [
  {
   "cell_type": "markdown",
   "metadata": {},
   "source": [
    "## XML parsing\n"
   ]
  },
  {
   "cell_type": "markdown",
   "metadata": {},
   "source": [
    "tag, text\n",
    "SOAP API - xml\n",
    "REST API - json\n",
    "SAX, DOM, etree\n",
    "XML (Extensible markup language)\n",
    "<tag>data</tag>"
   ]
  },
  {
   "cell_type": "markdown",
   "metadata": {},
   "source": [
    "<h1>hello world</h1>\n",
    "<h2>hello world</h2>\n",
    "<h3>hello world</h3>"
   ]
  },
  {
   "cell_type": "markdown",
   "metadata": {},
   "source": [
    "```\n",
    "<collection>\n",
    "    <element>\n",
    "        <name>John</name>\n",
    "        <age>28</age>\n",
    "    </element>\n",
    "    <element>\n",
    "        <name>Mike</name>\n",
    "        <age>29</age>\n",
    "</collection>\n",
    "\n",
    "                  0              1\n",
    "                 0      1     0      1\n",
    "collection = [['John', 28], ['Mike', 29]]\n",
    "```"
   ]
  },
  {
   "cell_type": "code",
   "execution_count": 9,
   "metadata": {},
   "outputs": [
    {
     "name": "stdout",
     "output_type": "stream",
     "text": [
      "collection\n",
      "age\n",
      "28\n"
     ]
    }
   ],
   "source": [
    "import xml.etree.ElementTree as ET\n",
    "f = ET.parse('source.xml')\n",
    "root = f.getroot()\n",
    "print(root.tag)\n",
    "\n",
    "print(root[0][1].tag)\n",
    "print(root[0][1].text)"
   ]
  },
  {
   "cell_type": "code",
   "execution_count": 11,
   "metadata": {},
   "outputs": [
    {
     "name": "stdout",
     "output_type": "stream",
     "text": [
      "\n",
      "\n",
      "John\n",
      "28\n",
      "\n",
      "Mike\n",
      "29\n"
     ]
    }
   ],
   "source": [
    "for i in root.iter():\n",
    "    print(i.text) # Use .strip() to remove space"
   ]
  },
  {
   "cell_type": "code",
   "execution_count": 12,
   "metadata": {},
   "outputs": [
    {
     "name": "stdout",
     "output_type": "stream",
     "text": [
      "John\n",
      "Mike\n"
     ]
    }
   ],
   "source": [
    "for i in root.iter('name'):\n",
    "    print(i.text)"
   ]
  },
  {
   "cell_type": "code",
   "execution_count": null,
   "metadata": {},
   "outputs": [],
   "source": []
  }
 ],
 "metadata": {
  "kernelspec": {
   "display_name": "Python 3",
   "language": "python",
   "name": "python3"
  },
  "language_info": {
   "codemirror_mode": {
    "name": "ipython",
    "version": 3
   },
   "file_extension": ".py",
   "mimetype": "text/x-python",
   "name": "python",
   "nbconvert_exporter": "python",
   "pygments_lexer": "ipython3",
   "version": "3.6.7"
  }
 },
 "nbformat": 4,
 "nbformat_minor": 2
}

{
 "cells": [
  {
   "cell_type": "markdown",
   "metadata": {},
   "source": [
    "## Decision making with if-elif-else control flow statements\n",
    "\n",
    "#### Decision statement\n",
    "- if the condition is True go via the enclosed block or go directly to the next block of code\n",
    "- if condition is False the program control goes to the else block, (if mentioned).\n",
    "\n",
    "```\n",
    "if condition:\n",
    "    statement\n",
    "elif condition:\n",
    "    statement\n",
    "...\n",
    "else:\n",
    "    statement\n",
    "```\n",
    "\n",
    "### Ternary operator shortcut \n",
    "```\n",
    "if cond:\n",
    "    True\n",
    "else:\n",
    "    False\n",
    "```\n",
    "\n",
    "#### True if cond else False\n",
    "   \n",
    "\n",
    "- **condition** is boolean comprising of relational or containment operators, i.e, >, <, ==, !=, >=, <=, in, not in, and, or etc.\n"
   ]
  },
  {
   "cell_type": "markdown",
   "metadata": {},
   "source": [
    "### WAP to check if a given number is positive and even"
   ]
  },
  {
   "cell_type": "code",
   "execution_count": 3,
   "metadata": {},
   "outputs": [],
   "source": [
    "def positive_even(num):\n",
    "    if num>0 and num%2==0:\n",
    "        return True\n",
    "    else:\n",
    "        return False"
   ]
  },
  {
   "cell_type": "code",
   "execution_count": 4,
   "metadata": {},
   "outputs": [
    {
     "data": {
      "text/plain": [
       "True"
      ]
     },
     "execution_count": 4,
     "metadata": {},
     "output_type": "execute_result"
    }
   ],
   "source": [
    "positive_even(20)"
   ]
  },
  {
   "cell_type": "code",
   "execution_count": 5,
   "metadata": {},
   "outputs": [
    {
     "data": {
      "text/plain": [
       "False"
      ]
     },
     "execution_count": 5,
     "metadata": {},
     "output_type": "execute_result"
    }
   ],
   "source": [
    "positive_even(-2)"
   ]
  },
  {
   "cell_type": "code",
   "execution_count": 6,
   "metadata": {},
   "outputs": [
    {
     "data": {
      "text/plain": [
       "False"
      ]
     },
     "execution_count": 6,
     "metadata": {},
     "output_type": "execute_result"
    }
   ],
   "source": [
    "positive_even(3)"
   ]
  },
  {
   "cell_type": "markdown",
   "metadata": {},
   "source": [
    "```\n",
    "Write a function that converts the time from military to regular format.\n",
    "\n",
    "    >>> practiceQuestion('1619')\n",
    "    '4:19 pm'\n",
    "    >>> practiceQuestion('1200')\n",
    "    '12:00 pm'\n",
    "    >>> practiceQuestion('1020')\n",
    "    '10:20 am'\n",
    "```"
   ]
  },
  {
   "cell_type": "code",
   "execution_count": 24,
   "metadata": {},
   "outputs": [
    {
     "data": {
      "text/plain": [
       "'4:19 pm'"
      ]
     },
     "execution_count": 24,
     "metadata": {},
     "output_type": "execute_result"
    }
   ],
   "source": [
    "def m2r(mtime):\n",
    "    h = mtime[:2]\n",
    "    m = mtime[-2:]\n",
    "    if int(h)==12:\n",
    "        hr = \"pm\"\n",
    "    elif int(h)>12:\n",
    "        hr = \"pm\"\n",
    "        h = int(h)-12\n",
    "    else:\n",
    "        hr = \"am\"\n",
    "    return \"%s:%s %s\" % (h, m, hr)\n",
    "    # return str(h) + \":\" + m + hr\n",
    "        \n",
    "m2r('1619')"
   ]
  },
  {
   "cell_type": "code",
   "execution_count": 25,
   "metadata": {},
   "outputs": [
    {
     "data": {
      "text/plain": [
       "'12:00 pm'"
      ]
     },
     "execution_count": 25,
     "metadata": {},
     "output_type": "execute_result"
    }
   ],
   "source": [
    "m2r('1200')"
   ]
  },
  {
   "cell_type": "code",
   "execution_count": 26,
   "metadata": {},
   "outputs": [
    {
     "data": {
      "text/plain": [
       "'10:20 am'"
      ]
     },
     "execution_count": 26,
     "metadata": {},
     "output_type": "execute_result"
    }
   ],
   "source": [
    "m2r('1020')"
   ]
  },
  {
   "cell_type": "code",
   "execution_count": null,
   "metadata": {},
   "outputs": [],
   "source": []
  }
 ],
 "metadata": {
  "kernelspec": {
   "display_name": "Python 3",
   "language": "python",
   "name": "python3"
  },
  "language_info": {
   "codemirror_mode": {
    "name": "ipython",
    "version": 3
   },
   "file_extension": ".py",
   "mimetype": "text/x-python",
   "name": "python",
   "nbconvert_exporter": "python",
   "pygments_lexer": "ipython3",
   "version": "3.6.7"
  }
 },
 "nbformat": 4,
 "nbformat_minor": 2
}

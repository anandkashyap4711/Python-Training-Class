{
 "cells": [
  {
   "cell_type": "markdown",
   "metadata": {},
   "source": [
    "# Exception handling\n",
    "- Exception\n",
    "- Handling using try, except, else anf finally\n",
    "- Causing an exception using raise and assert\n",
    "- Creating your own exception\n",
    "- Exception information\n",
    "- Logging the errors\n",
    "- Debugging\n",
    "- Linting (pylint)"
   ]
  },
  {
   "cell_type": "markdown",
   "metadata": {},
   "source": [
    "- **Exceptions** are unplanned event that may hinder the flow of program control.\n",
    "- **Exceptions** may be caused by end-user, developer or enviroment."
   ]
  },
  {
   "cell_type": "markdown",
   "metadata": {},
   "source": [
    "- Handling exception revives the flow of program control and hides the _traceback_ message from the end-user."
   ]
  },
  {
   "cell_type": "code",
   "execution_count": 6,
   "metadata": {},
   "outputs": [
    {
     "name": "stdout",
     "output_type": "stream",
     "text": [
      "Enter a number: one\n",
      "Error message\n"
     ]
    }
   ],
   "source": [
    "try:\n",
    "    a = int(input(\"Enter a number: \"))\n",
    "    print(10/a)\n",
    "except:\n",
    "    print(\"Error message\")"
   ]
  },
  {
   "cell_type": "code",
   "execution_count": 9,
   "metadata": {},
   "outputs": [
    {
     "name": "stdout",
     "output_type": "stream",
     "text": [
      "Enter a number: 0\n",
      "Error message: division by zero\n"
     ]
    }
   ],
   "source": [
    "try:\n",
    "    a = int(input(\"Enter a number: \"))\n",
    "    print(10/a)\n",
    "except Exception as e:\n",
    "    print(\"Error message:\", e)"
   ]
  },
  {
   "cell_type": "code",
   "execution_count": 11,
   "metadata": {},
   "outputs": [
    {
     "name": "stdout",
     "output_type": "stream",
     "text": [
      "Enter a number: 0\n",
      "After\n"
     ]
    }
   ],
   "source": [
    "try:\n",
    "    a = int(input(\"Enter a number: \"))\n",
    "    print(10/a)\n",
    "except Exception as e:\n",
    "    pass\n",
    "print(\"After\")"
   ]
  },
  {
   "cell_type": "code",
   "execution_count": 8,
   "metadata": {},
   "outputs": [
    {
     "name": "stdout",
     "output_type": "stream",
     "text": [
      "Enter a number: 0\n",
      "ZDE\n"
     ]
    }
   ],
   "source": [
    "try:\n",
    "    a = int(input(\"Enter a number: \"))\n",
    "    print(10/a)\n",
    "except ValueError:\n",
    "    print(\"ValueError\")\n",
    "except ZeroDivisionError:\n",
    "    print(\"ZDE\")\n",
    "except Exception as e:\n",
    "    print(\"default error message\", e)"
   ]
  },
  {
   "cell_type": "code",
   "execution_count": 9,
   "metadata": {},
   "outputs": [
    {
     "name": "stdout",
     "output_type": "stream",
     "text": [
      "Enter a number: 2\n",
      "5.0\n",
      "thank you\n"
     ]
    }
   ],
   "source": [
    "try:\n",
    "    a = int(input(\"Enter a number: \"))\n",
    "    print(10/a)\n",
    "except Exception as e:\n",
    "    print(\"Error message:\", e)\n",
    "finally:\n",
    "    print(\"thank you\")"
   ]
  },
  {
   "cell_type": "code",
   "execution_count": 10,
   "metadata": {},
   "outputs": [
    {
     "name": "stdout",
     "output_type": "stream",
     "text": [
      "Enter a number: 0\n",
      "Error message: division by zero\n",
      "thank you\n"
     ]
    }
   ],
   "source": [
    "try:\n",
    "    a = int(input(\"Enter a number: \"))\n",
    "    print(10/a)\n",
    "except Exception as e:\n",
    "    print(\"Error message:\", e)\n",
    "finally:\n",
    "    print(\"thank you\")"
   ]
  },
  {
   "cell_type": "markdown",
   "metadata": {},
   "source": [
    "### Program contro flow over exception handling block"
   ]
  },
  {
   "cell_type": "markdown",
   "metadata": {},
   "source": [
    "- try --correct--> else --> finally\n",
    "- try --wrong--> except --> finally"
   ]
  },
  {
   "cell_type": "code",
   "execution_count": 18,
   "metadata": {},
   "outputs": [
    {
     "name": "stdout",
     "output_type": "stream",
     "text": [
      "Enter age: 16\n",
      "You are underage\n",
      "Thank you for downloading\n"
     ]
    }
   ],
   "source": [
    "try:\n",
    "    age = int(input(\"Enter age: \"))\n",
    "    if age < 18:\n",
    "        raise\n",
    "except:\n",
    "    print(\"You are underage\")\n",
    "else:\n",
    "    print(\"Welome to PUB-G\")\n",
    "finally:\n",
    "    print(\"Thank you for downloading\")"
   ]
  },
  {
   "cell_type": "code",
   "execution_count": 20,
   "metadata": {},
   "outputs": [
    {
     "ename": "RuntimeError",
     "evalue": "No active exception to reraise",
     "output_type": "error",
     "traceback": [
      "\u001b[0;31m-----------------------------------------------------------------\u001b[0m",
      "\u001b[0;31mRuntimeError\u001b[0m                    Traceback (most recent call last)",
      "\u001b[0;32m<ipython-input-20-9c9a2cba73bf>\u001b[0m in \u001b[0;36m<module>\u001b[0;34m()\u001b[0m\n\u001b[0;32m----> 1\u001b[0;31m \u001b[0;32mraise\u001b[0m\u001b[0;34m\u001b[0m\u001b[0;34m\u001b[0m\u001b[0m\n\u001b[0m",
      "\u001b[0;31mRuntimeError\u001b[0m: No active exception to reraise"
     ]
    }
   ],
   "source": [
    "raise"
   ]
  },
  {
   "cell_type": "code",
   "execution_count": 21,
   "metadata": {},
   "outputs": [
    {
     "ename": "ValueError",
     "evalue": "",
     "output_type": "error",
     "traceback": [
      "\u001b[0;31m-----------------------------------------------------------------\u001b[0m",
      "\u001b[0;31mValueError\u001b[0m                      Traceback (most recent call last)",
      "\u001b[0;32m<ipython-input-21-e4c8e09828d5>\u001b[0m in \u001b[0;36m<module>\u001b[0;34m()\u001b[0m\n\u001b[0;32m----> 1\u001b[0;31m \u001b[0;32mraise\u001b[0m \u001b[0mValueError\u001b[0m\u001b[0;34m\u001b[0m\u001b[0;34m\u001b[0m\u001b[0m\n\u001b[0m",
      "\u001b[0;31mValueError\u001b[0m: "
     ]
    }
   ],
   "source": [
    "raise ValueError"
   ]
  },
  {
   "cell_type": "code",
   "execution_count": 22,
   "metadata": {},
   "outputs": [
    {
     "ename": "ValueError",
     "evalue": "My error message",
     "output_type": "error",
     "traceback": [
      "\u001b[0;31m-----------------------------------------------------------------\u001b[0m",
      "\u001b[0;31mValueError\u001b[0m                      Traceback (most recent call last)",
      "\u001b[0;32m<ipython-input-22-1fe684e85c9d>\u001b[0m in \u001b[0;36m<module>\u001b[0;34m()\u001b[0m\n\u001b[0;32m----> 1\u001b[0;31m \u001b[0;32mraise\u001b[0m \u001b[0mValueError\u001b[0m\u001b[0;34m(\u001b[0m\u001b[0;34m\"My error message\"\u001b[0m\u001b[0;34m)\u001b[0m\u001b[0;34m\u001b[0m\u001b[0;34m\u001b[0m\u001b[0m\n\u001b[0m",
      "\u001b[0;31mValueError\u001b[0m: My error message"
     ]
    }
   ],
   "source": [
    "raise ValueError(\"My error message\")"
   ]
  },
  {
   "cell_type": "code",
   "execution_count": 25,
   "metadata": {},
   "outputs": [
    {
     "ename": "AgeError",
     "evalue": "My error message",
     "output_type": "error",
     "traceback": [
      "\u001b[0;31m-----------------------------------------------------------------\u001b[0m",
      "\u001b[0;31mAgeError\u001b[0m                        Traceback (most recent call last)",
      "\u001b[0;32m<ipython-input-25-4bf32b076e0b>\u001b[0m in \u001b[0;36m<module>\u001b[0;34m()\u001b[0m\n\u001b[1;32m      1\u001b[0m \u001b[0;32mclass\u001b[0m \u001b[0mAgeError\u001b[0m\u001b[0;34m(\u001b[0m\u001b[0mException\u001b[0m\u001b[0;34m)\u001b[0m\u001b[0;34m:\u001b[0m\u001b[0;34m\u001b[0m\u001b[0;34m\u001b[0m\u001b[0m\n\u001b[1;32m      2\u001b[0m     \u001b[0;32mpass\u001b[0m\u001b[0;34m\u001b[0m\u001b[0;34m\u001b[0m\u001b[0m\n\u001b[0;32m----> 3\u001b[0;31m \u001b[0;32mraise\u001b[0m \u001b[0mAgeError\u001b[0m\u001b[0;34m(\u001b[0m\u001b[0;34m\"My error message\"\u001b[0m\u001b[0;34m)\u001b[0m\u001b[0;34m\u001b[0m\u001b[0;34m\u001b[0m\u001b[0m\n\u001b[0m",
      "\u001b[0;31mAgeError\u001b[0m: My error message"
     ]
    }
   ],
   "source": [
    "class AgeError(Exception):\n",
    "    pass\n",
    "raise AgeError(\"My error message\")"
   ]
  },
  {
   "cell_type": "markdown",
   "metadata": {},
   "source": [
    "#### assert condition, \"error message\"\n",
    "\n",
    "- raise (AssertionError) if (the following condition is) not (True) "
   ]
  },
  {
   "cell_type": "code",
   "execution_count": 29,
   "metadata": {},
   "outputs": [
    {
     "name": "stdout",
     "output_type": "stream",
     "text": [
      "Enter age: twelve\n",
      "Error message invalid literal for int() with base 10: 'twelve'\n",
      "Thank you for downloading\n"
     ]
    }
   ],
   "source": [
    "try:\n",
    "    age = int(input(\"Enter age: \"))\n",
    "    assert age>=18\n",
    "except AssertionError:\n",
    "    print(\"You are underage\")\n",
    "except Exception as e:\n",
    "    print(\"Error message\", e)\n",
    "else:\n",
    "    print(\"Welome to PUB-G\")\n",
    "finally:\n",
    "    print(\"Thank you for downloading\")"
   ]
  },
  {
   "cell_type": "code",
   "execution_count": 30,
   "metadata": {},
   "outputs": [
    {
     "data": {
      "text/plain": [
       "'Sun Apr  7 12:44:56 2019'"
      ]
     },
     "execution_count": 30,
     "metadata": {},
     "output_type": "execute_result"
    }
   ],
   "source": [
    "import time\n",
    "time.ctime()"
   ]
  },
  {
   "cell_type": "markdown",
   "metadata": {},
   "source": [
    "## Logging errors\n",
    "- capture and classify\n",
    "\n",
    "### Levels of logging or errror classification\n",
    "```\n",
    "10  DEBUG\n",
    "20  INFO\n",
    "30  WARNING\n",
    "40  ERROR\n",
    "50  CRITICAL\n",
    "```"
   ]
  },
  {
   "cell_type": "code",
   "execution_count": 33,
   "metadata": {},
   "outputs": [
    {
     "name": "stdout",
     "output_type": "stream",
     "text": [
      "Enter a number: 4\n",
      "2.5\n"
     ]
    }
   ],
   "source": [
    "import logging\n",
    "try:\n",
    "    a = int(input(\"Enter a number: \"))\n",
    "    print(10/a)\n",
    "except Exception as e:\n",
    "    logging.basicConfig(filename='error7.log', level=50)\n",
    "    logging.critical(time.ctime() + \" \" + str(e))"
   ]
  },
  {
   "cell_type": "code",
   "execution_count": 35,
   "metadata": {},
   "outputs": [
    {
     "name": "stdout",
     "output_type": "stream",
     "text": [
      "CRITICAL:root:Sun Apr  7 12:51:39 2019 division by zero\n",
      "CRITICAL:root:Sun Apr  7 12:51:45 2019 invalid literal for int() with base 10: 'one'\n",
      "\n"
     ]
    }
   ],
   "source": [
    "print(open('error7.log').read())"
   ]
  },
  {
   "cell_type": "code",
   "execution_count": 44,
   "metadata": {},
   "outputs": [
    {
     "name": "stdout",
     "output_type": "stream",
     "text": [
      "Line number:  3\n",
      "Class of Error:  ZeroDivisionError\n",
      "Error message:  division by zero\n"
     ]
    }
   ],
   "source": [
    "import sys\n",
    "try:\n",
    "    print(1/0)\n",
    "except:\n",
    "    a, b, c = sys.exc_info()\n",
    "    print(\"Line number: \", c.tb_lineno)\n",
    "    print(\"Class of Error: \", a.__name__)\n",
    "    print(\"Error message: \", b)"
   ]
  },
  {
   "cell_type": "code",
   "execution_count": null,
   "metadata": {},
   "outputs": [],
   "source": []
  }
 ],
 "metadata": {
  "kernelspec": {
   "display_name": "Python 3",
   "language": "python",
   "name": "python3"
  },
  "language_info": {
   "codemirror_mode": {
    "name": "ipython",
    "version": 3
   },
   "file_extension": ".py",
   "mimetype": "text/x-python",
   "name": "python",
   "nbconvert_exporter": "python",
   "pygments_lexer": "ipython3",
   "version": "3.6.7"
  }
 },
 "nbformat": 4,
 "nbformat_minor": 2
}

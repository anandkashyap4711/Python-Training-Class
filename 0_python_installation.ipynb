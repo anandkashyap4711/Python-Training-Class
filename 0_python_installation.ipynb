{
 "cells": [
  {
   "cell_type": "markdown",
   "metadata": {},
   "source": [
    "## Installation Guide\n",
    "\n",
    "#### Download python from \n",
    "- https://www.python.org/downloads/\n",
    "\n",
    "#### Verify Python installation\n",
    "```\n",
    "python --version \n",
    "3.x.x\n",
    "```\n",
    "\n",
    "#### Upgrade python package installer (pip)\n",
    "```\n",
    "python -m pip install --upgrade pip \n",
    "19.0\n",
    "```\n",
    "\n",
    "#### Install jupyter notebook \n",
    "```\n",
    "python -m pip install jupyter\n",
    "```\n",
    "\n",
    "#### To run jupyter notebook (Web Based Python Editor)\n",
    "```\n",
    "jupyter notebook\n",
    "\n",
    "or \n",
    "\n",
    "python -m notebook\n",
    "```"
   ]
  },
  {
   "cell_type": "code",
   "execution_count": null,
   "metadata": {},
   "outputs": [],
   "source": []
  }
 ],
 "metadata": {
  "kernelspec": {
   "display_name": "Python 3",
   "language": "python",
   "name": "python3"
  },
  "language_info": {
   "codemirror_mode": {
    "name": "ipython",
    "version": 3
   },
   "file_extension": ".py",
   "mimetype": "text/x-python",
   "name": "python",
   "nbconvert_exporter": "python",
   "pygments_lexer": "ipython3",
   "version": "3.6.7"
  }
 },
 "nbformat": 4,
 "nbformat_minor": 2
}
